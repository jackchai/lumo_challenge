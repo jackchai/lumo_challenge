{
 "cells": [
  {
   "cell_type": "code",
   "execution_count": 24,
   "metadata": {
    "collapsed": true
   },
   "outputs": [],
   "source": [
    "import pprint\n",
    "import numpy as np\n",
    "import matplotlib.pyplot as plt\n",
    "import pandas as pd\n",
    "import seaborn as sns\n",
    "from scipy.optimize import curve_fit\n",
    "%matplotlib inline"
   ]
  },
  {
   "cell_type": "markdown",
   "metadata": {},
   "source": [
    "# Below is python code for loading data and answer Part 2 Hour of day Activity"
   ]
  },
  {
   "cell_type": "code",
   "execution_count": 3,
   "metadata": {
    "collapsed": false
   },
   "outputs": [],
   "source": [
    "df = pd.read_json('Part 2 HOD Activity.json', orient = 'records').reset_index()\n",
    "dct = {}\n",
    "for key, val in df[df.index == 0]['part 2 hod activity'].iteritems():\n",
    "    dct[key] = val\n",
    "    \n",
    "final_df = pd.DataFrame.from_dict(dct, orient = 'index')\n",
    "for i in range(1, len(df)):\n",
    "    dct = {}\n",
    "    for key, val in df[df.index == i]['part 2 hod activity'].iteritems():\n",
    "        dct[key] = val\n",
    "        \n",
    "    test_df = pd.DataFrame.from_dict(dct, orient = 'index')\n",
    "    final_df = final_df.append(test_df)\n",
    "    \n",
    "        \n",
    "    "
   ]
  },
  {
   "cell_type": "code",
   "execution_count": 4,
   "metadata": {
    "collapsed": false
   },
   "outputs": [
    {
     "data": {
      "text/html": [
       "<div>\n",
       "<table border=\"1\" class=\"dataframe\">\n",
       "  <thead>\n",
       "    <tr style=\"text-align: right;\">\n",
       "      <th></th>\n",
       "      <th>aggregated_activity_type</th>\n",
       "      <th>hour_of_day</th>\n",
       "      <th>avg_num_owners</th>\n",
       "    </tr>\n",
       "  </thead>\n",
       "  <tbody>\n",
       "    <tr>\n",
       "      <th>0</th>\n",
       "      <td>car</td>\n",
       "      <td>0</td>\n",
       "      <td>16</td>\n",
       "    </tr>\n",
       "    <tr>\n",
       "      <th>1</th>\n",
       "      <td>car</td>\n",
       "      <td>1</td>\n",
       "      <td>7</td>\n",
       "    </tr>\n",
       "    <tr>\n",
       "      <th>2</th>\n",
       "      <td>car</td>\n",
       "      <td>2</td>\n",
       "      <td>6</td>\n",
       "    </tr>\n",
       "    <tr>\n",
       "      <th>3</th>\n",
       "      <td>car</td>\n",
       "      <td>3</td>\n",
       "      <td>2</td>\n",
       "    </tr>\n",
       "    <tr>\n",
       "      <th>4</th>\n",
       "      <td>car</td>\n",
       "      <td>4</td>\n",
       "      <td>3</td>\n",
       "    </tr>\n",
       "    <tr>\n",
       "      <th>5</th>\n",
       "      <td>car</td>\n",
       "      <td>5</td>\n",
       "      <td>8</td>\n",
       "    </tr>\n",
       "    <tr>\n",
       "      <th>6</th>\n",
       "      <td>car</td>\n",
       "      <td>6</td>\n",
       "      <td>26</td>\n",
       "    </tr>\n",
       "    <tr>\n",
       "      <th>7</th>\n",
       "      <td>car</td>\n",
       "      <td>7</td>\n",
       "      <td>57</td>\n",
       "    </tr>\n",
       "    <tr>\n",
       "      <th>8</th>\n",
       "      <td>car</td>\n",
       "      <td>8</td>\n",
       "      <td>64</td>\n",
       "    </tr>\n",
       "    <tr>\n",
       "      <th>9</th>\n",
       "      <td>car</td>\n",
       "      <td>9</td>\n",
       "      <td>58</td>\n",
       "    </tr>\n",
       "  </tbody>\n",
       "</table>\n",
       "</div>"
      ],
      "text/plain": [
       "  aggregated_activity_type hour_of_day avg_num_owners\n",
       "0                      car           0             16\n",
       "1                      car           1              7\n",
       "2                      car           2              6\n",
       "3                      car           3              2\n",
       "4                      car           4              3\n",
       "5                      car           5              8\n",
       "6                      car           6             26\n",
       "7                      car           7             57\n",
       "8                      car           8             64\n",
       "9                      car           9             58"
      ]
     },
     "execution_count": 4,
     "metadata": {},
     "output_type": "execute_result"
    }
   ],
   "source": [
    "final_df.head(10)"
   ]
  },
  {
   "cell_type": "code",
   "execution_count": 5,
   "metadata": {
    "collapsed": true
   },
   "outputs": [],
   "source": [
    "car_df = final_df[final_df.aggregated_activity_type == 'car'] .reset_index()\n",
    "sit_df = final_df[final_df.aggregated_activity_type == 'sit'] .reset_index()\n",
    "stand_df = final_df[final_df.aggregated_activity_type == 'stand'] .reset_index()\n",
    "move_df = final_df[final_df.aggregated_activity_type == 'move'] .reset_index()\n",
    "inactive_df = final_df[final_df.aggregated_activity_type == 'inactive'] .reset_index()"
   ]
  },
  {
   "cell_type": "code",
   "execution_count": 13,
   "metadata": {
    "collapsed": false
   },
   "outputs": [
    {
     "data": {
      "image/png": "[encoded data removed]",
      "text/plain": [
       "<matplotlib.figure.Figure at 0x111ea6790>"
      ]
     },
     "metadata": {},
     "output_type": "display_data"
    },
    {
     "name": "stdout",
     "output_type": "stream",
     "text": [
      "Some interesting things I found for this analysis of the data set\n",
      "Most of the time, people are using the device while sitting\n",
      "The second largest is standing and then car\n",
      "There are some nice trends in that the active times happen during normal hours (6AM to 10PM)\n",
      "What is interesting about car is that there seems to be a small peack at the beginning and end of the work day - seemingly making sense for normal commute times\n",
      "For standing, it seems to peak at the mroning and then potentially slowly drops off\n",
      "The most interesting is sitting, There seems to be a peak for when  person gets into the office, after lunch, and possibly after dinner\n",
      "This suggests to me that the first thing people do after eating is sit\n",
      "The reason why lunch and dinner might be less sitting is that people are getting food or doing some other exercies that makes the dominant behavior not sitting\n"
     ]
    }
   ],
   "source": [
    "plt.plot(np.double(car_df.hour_of_day), np.double(car_df.avg_num_owners))\n",
    "plt.hold('on')\n",
    "plt.plot(np.double(sit_df.hour_of_day), np.double(sit_df.avg_num_owners))\n",
    "plt.plot(np.double(stand_df.hour_of_day), np.double(stand_df.avg_num_owners))\n",
    "plt.plot(np.double(move_df.hour_of_day), np.double(move_df.avg_num_owners))\n",
    "#plt.plot(np.double(inactive_df.hour_of_day), np.double(inactive_df.avg_num_owners))\n",
    "plt.legend(['car','sit','stand','move'])\n",
    "plt.show()\n",
    "\n",
    "\n",
    "print('Some interesting things I found for this analysis of the data set')\n",
    "print('Most of the time, people are using the device while sitting')\n",
    "print('The second largest is standing and then car')\n",
    "print('There are some nice trends in that the active times happen during normal hours (6AM to 10PM)')\n",
    "print('What is interesting about car is that there seems to be a small peack at the beginning and end of the work day - seemingly making sense for normal commute times')\n",
    "print('For standing, it seems to peak at the mroning and then potentially slowly drops off')\n",
    "print('The most interesting is sitting, There seems to be a peak for when  person gets into the office, after lunch, and possibly after dinner')\n",
    "print('This suggests to me that the first thing people do after eating is sit')\n",
    "print('The reason why lunch and dinner might be less sitting is that people are getting food or doing some other exercies that makes the dominant behavior not sitting')"
   ]
  },
  {
   "cell_type": "markdown",
   "metadata": {
    "collapsed": true
   },
   "source": [
    "# Below is python code for loading data and answer Part 2 Sit Time"
   ]
  },
  {
   "cell_type": "code",
   "execution_count": 27,
   "metadata": {
    "collapsed": false
   },
   "outputs": [],
   "source": [
    "df = pd.read_json('Part 2 Sit Time.json', orient = 'records').reset_index()\n",
    "dct = {}\n",
    "for key, val in df[df.index == 0]['part 2 sit time'].iteritems():\n",
    "    dct[key] = val\n",
    "    \n",
    "final_df = pd.DataFrame.from_dict(dct, orient = 'index')\n",
    "for i in range(1, len(df)):\n",
    "    dct = {}\n",
    "    for key, val in df[df.index == i]['part 2 sit time'].iteritems():\n",
    "        dct[key] = val\n",
    "        \n",
    "    test_df = pd.DataFrame.from_dict(dct, orient = 'index')\n",
    "    final_df = final_df.append(test_df)\n",
    "    \n",
    "        \n",
    "    "
   ]
  },
  {
   "cell_type": "code",
   "execution_count": 28,
   "metadata": {
    "collapsed": false
   },
   "outputs": [
    {
     "data": {
      "text/html": [
       "<div>\n",
       "<table border=\"1\" class=\"dataframe\">\n",
       "  <thead>\n",
       "    <tr style=\"text-align: right;\">\n",
       "      <th></th>\n",
       "      <th>avg_good_sit</th>\n",
       "      <th>stdev_good_sit</th>\n",
       "      <th>minutes_of_sitting</th>\n",
       "      <th>n_good_sit</th>\n",
       "    </tr>\n",
       "  </thead>\n",
       "  <tbody>\n",
       "    <tr>\n",
       "      <th>0</th>\n",
       "      <td>0.42959230604736916</td>\n",
       "      <td>0.40130336575587944</td>\n",
       "      <td>0</td>\n",
       "      <td>19557</td>\n",
       "    </tr>\n",
       "    <tr>\n",
       "      <th>1</th>\n",
       "      <td>0.47911899375962951</td>\n",
       "      <td>0.40847743983240925</td>\n",
       "      <td>10</td>\n",
       "      <td>21453</td>\n",
       "    </tr>\n",
       "    <tr>\n",
       "      <th>2</th>\n",
       "      <td>0.47759333058375622</td>\n",
       "      <td>0.4070760576644995</td>\n",
       "      <td>20</td>\n",
       "      <td>20492</td>\n",
       "    </tr>\n",
       "    <tr>\n",
       "      <th>3</th>\n",
       "      <td>0.47037538614448376</td>\n",
       "      <td>0.4071586205472227</td>\n",
       "      <td>30</td>\n",
       "      <td>19772</td>\n",
       "    </tr>\n",
       "    <tr>\n",
       "      <th>4</th>\n",
       "      <td>0.47069420080515755</td>\n",
       "      <td>0.40537900554139394</td>\n",
       "      <td>40</td>\n",
       "      <td>19448</td>\n",
       "    </tr>\n",
       "    <tr>\n",
       "      <th>5</th>\n",
       "      <td>0.46905497410890286</td>\n",
       "      <td>0.4054489968348567</td>\n",
       "      <td>50</td>\n",
       "      <td>18920</td>\n",
       "    </tr>\n",
       "    <tr>\n",
       "      <th>6</th>\n",
       "      <td>0.47033640285939272</td>\n",
       "      <td>0.40433825251460936</td>\n",
       "      <td>60</td>\n",
       "      <td>18532</td>\n",
       "    </tr>\n",
       "    <tr>\n",
       "      <th>7</th>\n",
       "      <td>0.45846190417584051</td>\n",
       "      <td>0.4052577289369465</td>\n",
       "      <td>70</td>\n",
       "      <td>18249</td>\n",
       "    </tr>\n",
       "    <tr>\n",
       "      <th>8</th>\n",
       "      <td>0.46352712698313141</td>\n",
       "      <td>0.4036689989084519</td>\n",
       "      <td>80</td>\n",
       "      <td>17715</td>\n",
       "    </tr>\n",
       "    <tr>\n",
       "      <th>9</th>\n",
       "      <td>0.45654913784611989</td>\n",
       "      <td>0.4047688153122428</td>\n",
       "      <td>90</td>\n",
       "      <td>17545</td>\n",
       "    </tr>\n",
       "  </tbody>\n",
       "</table>\n",
       "</div>"
      ],
      "text/plain": [
       "          avg_good_sit       stdev_good_sit minutes_of_sitting n_good_sit\n",
       "0  0.42959230604736916  0.40130336575587944                  0      19557\n",
       "1  0.47911899375962951  0.40847743983240925                 10      21453\n",
       "2  0.47759333058375622   0.4070760576644995                 20      20492\n",
       "3  0.47037538614448376   0.4071586205472227                 30      19772\n",
       "4  0.47069420080515755  0.40537900554139394                 40      19448\n",
       "5  0.46905497410890286   0.4054489968348567                 50      18920\n",
       "6  0.47033640285939272  0.40433825251460936                 60      18532\n",
       "7  0.45846190417584051   0.4052577289369465                 70      18249\n",
       "8  0.46352712698313141   0.4036689989084519                 80      17715\n",
       "9  0.45654913784611989   0.4047688153122428                 90      17545"
      ]
     },
     "execution_count": 28,
     "metadata": {},
     "output_type": "execute_result"
    }
   ],
   "source": [
    "final_df.head(10)"
   ]
  },
  {
   "cell_type": "code",
   "execution_count": 31,
   "metadata": {
    "collapsed": false
   },
   "outputs": [
    {
     "name": "stdout",
     "output_type": "stream",
     "text": [
      "What is immediately obvious from this plot is that the longer a user spends sitting, the more likely they are to have less good posture (more bad posture)\n",
      "Every 10 minute increment, we see a decrease, \n"
     ]
    },
    {
     "data": {
      "image/png": "[encoded data removed]",
      "text/plain": [
       "<matplotlib.figure.Figure at 0x1120a8510>"
      ]
     },
     "metadata": {},
     "output_type": "display_data"
    }
   ],
   "source": [
    "plt.plot(np.double(final_df.minutes_of_sitting), np.double(final_df.avg_good_sit))\n",
    "plt.hold('on')\n",
    "plt.plot(np.double(final_df.minutes_of_sitting), np.double(final_df.avg_good_sit) - np.double(final_df.stdev_good_sit)/np.double(final_df.n_good_sit), 'b--')\n",
    "plt.xlabel('Minutes of consecutive Sitting')\n",
    "plt.ylabel('Fraction of time in good sit')\n",
    "plt.xlim(10,500)\n",
    "plt.ylim(0.4, 0.5)\n",
    "\n",
    "print('What is immediately obvious from this plot is that the longer a user spends sitting, the more likely they are to have less good posture (more bad posture)')\n",
    "print('Every 10 minute increment, we see a decrease, ')"
   ]
  },
  {
   "cell_type": "code",
   "execution_count": 43,
   "metadata": {
    "collapsed": false
   },
   "outputs": [],
   "source": [
    "def func(x, a, b, c):\n",
    "    return a * np.exp(-b * x) + c\n",
    "\n",
    "popt, pcov = curve_fit(func, np.double(final_df.minutes_of_sitting[0:60]), np.double(final_df.avg_good_sit[0:60]), p0 = [0.08, 1.0/180, 0.40]) "
   ]
  },
  {
   "cell_type": "code",
   "execution_count": 50,
   "metadata": {
    "collapsed": false
   },
   "outputs": [
    {
     "data": {
      "image/png": "[encoded data removed]",
      "text/plain": [
       "<matplotlib.figure.Figure at 0x111e836d0>"
      ]
     },
     "metadata": {},
     "output_type": "display_data"
    },
    {
     "name": "stdout",
     "output_type": "stream",
     "text": [
      "It seems that the exponential fit is pretty good\n",
      "The decay parameter is\n",
      "0.00407538108121\n",
      "This would suggest that the curve fully decays in ~240 minutes\n",
      "As a result, for the general population, we might be able to send a notification at 120 minutes (2 hours of consecutive sitting) to get them to change postures or take a walk\n"
     ]
    }
   ],
   "source": [
    "plt.plot(np.double(final_df.minutes_of_sitting), np.double(final_df.avg_good_sit), alpha = 0.5)\n",
    "plt.hold('on')\n",
    "plt.plot(np.double(final_df.minutes_of_sitting), func(np.double(final_df.minutes_of_sitting), *popt), alpha = 0.5)\n",
    "plt.xlabel('Minutes of consecutive Sitting')\n",
    "plt.ylabel('Fraction of time in good sit')\n",
    "plt.xlim(10,500)\n",
    "plt.ylim(0.4, 0.5)\n",
    "plt.show()\n",
    "\n",
    "print('It seems that the exponential fit is pretty good')\n",
    "print('The decay parameter is')\n",
    "print((popt[1]))\n",
    "print('This would suggest that the curve fully decays in ~240 minutes')\n",
    "print('As a result, for the general population, we might be able to send a notification at 120 minutes (2 hours of consecutive sitting) to get them to change postures or take a walk')\n"
   ]
  },
  {
   "cell_type": "code",
   "execution_count": null,
   "metadata": {
    "collapsed": true
   },
   "outputs": [],
   "source": []
  }
 ],
 "metadata": {
  "kernelspec": {
   "display_name": "Python 2",
   "language": "python",
   "name": "python2"
  },
  "language_info": {
   "codemirror_mode": {
    "name": "ipython",
    "version": 2
   },
   "file_extension": ".py",
   "mimetype": "text/x-python",
   "name": "python",
   "nbconvert_exporter": "python",
   "pygments_lexer": "ipython2",
   "version": "2.7.10"
  }
 },
 "nbformat": 4,
 "nbformat_minor": 0
}
