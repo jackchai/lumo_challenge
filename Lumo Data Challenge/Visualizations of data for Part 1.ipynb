{
 "cells": [
  {
   "cell_type": "code",
   "execution_count": 1,
   "metadata": {
    "collapsed": true
   },
   "outputs": [],
   "source": [
    "import pprint\n",
    "import numpy as np\n",
    "import matplotlib.pyplot as plt\n",
    "import pandas as pd\n",
    "import seaborn as sns\n",
    "%matplotlib inline"
   ]
  },
  {
   "cell_type": "markdown",
   "metadata": {},
   "source": [
    "# Below is python code for loading data and answer Problem 1"
   ]
  },
  {
   "cell_type": "code",
   "execution_count": 2,
   "metadata": {
    "collapsed": false
   },
   "outputs": [],
   "source": [
    "df = pd.read_json('Problem 1.json', orient = 'records').reset_index()\n",
    "dct = {}\n",
    "for key, val in df[df.index == 0]['problem 1'].iteritems():\n",
    "    dct[key] = val\n",
    "    \n",
    "final_df = pd.DataFrame.from_dict(dct, orient = 'index')\n",
    "for i in range(1, len(df)):\n",
    "    dct = {}\n",
    "    for key, val in df[df.index == i]['problem 1'].iteritems():\n",
    "        dct[key] = val\n",
    "        \n",
    "    test_df = pd.DataFrame.from_dict(dct, orient = 'index')\n",
    "    final_df = final_df.append(test_df)\n",
    "    \n",
    "        \n",
    "    "
   ]
  },
  {
   "cell_type": "code",
   "execution_count": 3,
   "metadata": {
    "collapsed": false
   },
   "outputs": [
    {
     "data": {
      "text/html": [
       "<div>\n",
       "<table border=\"1\" class=\"dataframe\">\n",
       "  <thead>\n",
       "    <tr style=\"text-align: right;\">\n",
       "      <th></th>\n",
       "      <th>dau</th>\n",
       "      <th>local_date</th>\n",
       "      <th>mau</th>\n",
       "    </tr>\n",
       "  </thead>\n",
       "  <tbody>\n",
       "    <tr>\n",
       "      <th>0</th>\n",
       "      <td>2548</td>\n",
       "      <td>2015-10-01 00:00:00</td>\n",
       "      <td>7039</td>\n",
       "    </tr>\n",
       "    <tr>\n",
       "      <th>1</th>\n",
       "      <td>2414</td>\n",
       "      <td>2015-10-02 00:00:00</td>\n",
       "      <td>7039</td>\n",
       "    </tr>\n",
       "    <tr>\n",
       "      <th>2</th>\n",
       "      <td>1931</td>\n",
       "      <td>2015-10-03 00:00:00</td>\n",
       "      <td>7039</td>\n",
       "    </tr>\n",
       "    <tr>\n",
       "      <th>3</th>\n",
       "      <td>1859</td>\n",
       "      <td>2015-10-04 00:00:00</td>\n",
       "      <td>7039</td>\n",
       "    </tr>\n",
       "    <tr>\n",
       "      <th>4</th>\n",
       "      <td>2483</td>\n",
       "      <td>2015-10-05 00:00:00</td>\n",
       "      <td>7039</td>\n",
       "    </tr>\n",
       "    <tr>\n",
       "      <th>5</th>\n",
       "      <td>2511</td>\n",
       "      <td>2015-10-06 00:00:00</td>\n",
       "      <td>7039</td>\n",
       "    </tr>\n",
       "    <tr>\n",
       "      <th>6</th>\n",
       "      <td>2504</td>\n",
       "      <td>2015-10-07 00:00:00</td>\n",
       "      <td>7039</td>\n",
       "    </tr>\n",
       "    <tr>\n",
       "      <th>7</th>\n",
       "      <td>2469</td>\n",
       "      <td>2015-10-08 00:00:00</td>\n",
       "      <td>7039</td>\n",
       "    </tr>\n",
       "    <tr>\n",
       "      <th>8</th>\n",
       "      <td>2344</td>\n",
       "      <td>2015-10-09 00:00:00</td>\n",
       "      <td>7039</td>\n",
       "    </tr>\n",
       "    <tr>\n",
       "      <th>9</th>\n",
       "      <td>1878</td>\n",
       "      <td>2015-10-10 00:00:00</td>\n",
       "      <td>7039</td>\n",
       "    </tr>\n",
       "  </tbody>\n",
       "</table>\n",
       "</div>"
      ],
      "text/plain": [
       "    dau           local_date   mau\n",
       "0  2548  2015-10-01 00:00:00  7039\n",
       "1  2414  2015-10-02 00:00:00  7039\n",
       "2  1931  2015-10-03 00:00:00  7039\n",
       "3  1859  2015-10-04 00:00:00  7039\n",
       "4  2483  2015-10-05 00:00:00  7039\n",
       "5  2511  2015-10-06 00:00:00  7039\n",
       "6  2504  2015-10-07 00:00:00  7039\n",
       "7  2469  2015-10-08 00:00:00  7039\n",
       "8  2344  2015-10-09 00:00:00  7039\n",
       "9  1878  2015-10-10 00:00:00  7039"
      ]
     },
     "execution_count": 3,
     "metadata": {},
     "output_type": "execute_result"
    }
   ],
   "source": [
    "final_df.head(10)"
   ]
  },
  {
   "cell_type": "markdown",
   "metadata": {
    "collapsed": true
   },
   "source": [
    "# Below is python code for loading data and answer Problem 1 Addition"
   ]
  },
  {
   "cell_type": "code",
   "execution_count": 4,
   "metadata": {
    "collapsed": false
   },
   "outputs": [],
   "source": [
    "df = pd.read_json('Problem 1 Addition.json', orient = 'records').reset_index()\n",
    "dct = {}\n",
    "for key, val in df[df.index == 0]['problem 1 addition'].iteritems():\n",
    "    dct[key] = val\n",
    "    \n",
    "final_df = pd.DataFrame.from_dict(dct, orient = 'index')\n",
    "for i in range(1, len(df)):\n",
    "    dct = {}\n",
    "    for key, val in df[df.index == i]['problem 1 addition'].iteritems():\n",
    "        dct[key] = val\n",
    "        \n",
    "    test_df = pd.DataFrame.from_dict(dct, orient = 'index')\n",
    "    final_df = final_df.append(test_df)\n",
    "    \n",
    "        \n",
    "    "
   ]
  },
  {
   "cell_type": "code",
   "execution_count": 5,
   "metadata": {
    "collapsed": false
   },
   "outputs": [
    {
     "data": {
      "text/html": [
       "<div>\n",
       "<table border=\"1\" class=\"dataframe\">\n",
       "  <thead>\n",
       "    <tr style=\"text-align: right;\">\n",
       "      <th></th>\n",
       "      <th>dau</th>\n",
       "      <th>local_date</th>\n",
       "      <th>mau</th>\n",
       "    </tr>\n",
       "  </thead>\n",
       "  <tbody>\n",
       "    <tr>\n",
       "      <th>0</th>\n",
       "      <td>2171</td>\n",
       "      <td>2015-10-01 00:00:00</td>\n",
       "      <td>6482</td>\n",
       "    </tr>\n",
       "    <tr>\n",
       "      <th>1</th>\n",
       "      <td>2057</td>\n",
       "      <td>2015-10-02 00:00:00</td>\n",
       "      <td>6482</td>\n",
       "    </tr>\n",
       "    <tr>\n",
       "      <th>2</th>\n",
       "      <td>1415</td>\n",
       "      <td>2015-10-03 00:00:00</td>\n",
       "      <td>6482</td>\n",
       "    </tr>\n",
       "    <tr>\n",
       "      <th>3</th>\n",
       "      <td>1340</td>\n",
       "      <td>2015-10-04 00:00:00</td>\n",
       "      <td>6482</td>\n",
       "    </tr>\n",
       "    <tr>\n",
       "      <th>4</th>\n",
       "      <td>2152</td>\n",
       "      <td>2015-10-05 00:00:00</td>\n",
       "      <td>6482</td>\n",
       "    </tr>\n",
       "    <tr>\n",
       "      <th>5</th>\n",
       "      <td>2182</td>\n",
       "      <td>2015-10-06 00:00:00</td>\n",
       "      <td>6482</td>\n",
       "    </tr>\n",
       "    <tr>\n",
       "      <th>6</th>\n",
       "      <td>2198</td>\n",
       "      <td>2015-10-07 00:00:00</td>\n",
       "      <td>6482</td>\n",
       "    </tr>\n",
       "    <tr>\n",
       "      <th>7</th>\n",
       "      <td>2130</td>\n",
       "      <td>2015-10-08 00:00:00</td>\n",
       "      <td>6482</td>\n",
       "    </tr>\n",
       "    <tr>\n",
       "      <th>8</th>\n",
       "      <td>2015</td>\n",
       "      <td>2015-10-09 00:00:00</td>\n",
       "      <td>6482</td>\n",
       "    </tr>\n",
       "    <tr>\n",
       "      <th>9</th>\n",
       "      <td>1382</td>\n",
       "      <td>2015-10-10 00:00:00</td>\n",
       "      <td>6482</td>\n",
       "    </tr>\n",
       "  </tbody>\n",
       "</table>\n",
       "</div>"
      ],
      "text/plain": [
       "    dau           local_date   mau\n",
       "0  2171  2015-10-01 00:00:00  6482\n",
       "1  2057  2015-10-02 00:00:00  6482\n",
       "2  1415  2015-10-03 00:00:00  6482\n",
       "3  1340  2015-10-04 00:00:00  6482\n",
       "4  2152  2015-10-05 00:00:00  6482\n",
       "5  2182  2015-10-06 00:00:00  6482\n",
       "6  2198  2015-10-07 00:00:00  6482\n",
       "7  2130  2015-10-08 00:00:00  6482\n",
       "8  2015  2015-10-09 00:00:00  6482\n",
       "9  1382  2015-10-10 00:00:00  6482"
      ]
     },
     "execution_count": 5,
     "metadata": {},
     "output_type": "execute_result"
    }
   ],
   "source": [
    "final_df.head(10)"
   ]
  },
  {
   "cell_type": "markdown",
   "metadata": {},
   "source": [
    "# Below is python code for loading data and answer Problem 2\n"
   ]
  },
  {
   "cell_type": "code",
   "execution_count": 6,
   "metadata": {
    "collapsed": false
   },
   "outputs": [],
   "source": [
    "df = pd.read_json('Problem 2.json', orient = 'records').reset_index()\n",
    "dct = {}\n",
    "for key, val in df[df.index == 0]['problem 2'].iteritems():\n",
    "    dct[key] = val\n",
    "    \n",
    "final_df = pd.DataFrame.from_dict(dct, orient = 'index')\n",
    "for i in range(1, len(df)):\n",
    "    dct = {}\n",
    "    for key, val in df[df.index == i]['problem 2'].iteritems():\n",
    "        dct[key] = val\n",
    "        \n",
    "    test_df = pd.DataFrame.from_dict(dct, orient = 'index')\n",
    "    final_df = final_df.append(test_df)\n",
    "    \n",
    "        \n",
    "    "
   ]
  },
  {
   "cell_type": "code",
   "execution_count": 7,
   "metadata": {
    "collapsed": false
   },
   "outputs": [
    {
     "data": {
      "text/html": [
       "<div>\n",
       "<table border=\"1\" class=\"dataframe\">\n",
       "  <thead>\n",
       "    <tr style=\"text-align: right;\">\n",
       "      <th></th>\n",
       "      <th>owner</th>\n",
       "      <th>local_date</th>\n",
       "      <th>correlation</th>\n",
       "    </tr>\n",
       "  </thead>\n",
       "  <tbody>\n",
       "    <tr>\n",
       "      <th>0</th>\n",
       "      <td>0014509873541</td>\n",
       "      <td>2015-12-01 00:00:00</td>\n",
       "      <td>0</td>\n",
       "    </tr>\n",
       "    <tr>\n",
       "      <th>1</th>\n",
       "      <td>0016509873541</td>\n",
       "      <td>2015-12-01 00:00:00</td>\n",
       "      <td>-10.390537330480315</td>\n",
       "    </tr>\n",
       "    <tr>\n",
       "      <th>2</th>\n",
       "      <td>0017409873541</td>\n",
       "      <td>2015-12-01 00:00:00</td>\n",
       "      <td>-15.746115002569816</td>\n",
       "    </tr>\n",
       "    <tr>\n",
       "      <th>3</th>\n",
       "      <td>0019409873541</td>\n",
       "      <td>2015-12-01 00:00:00</td>\n",
       "      <td>13.49816494898464</td>\n",
       "    </tr>\n",
       "    <tr>\n",
       "      <th>4</th>\n",
       "      <td>0019609873541</td>\n",
       "      <td>2015-12-01 00:00:00</td>\n",
       "      <td>12</td>\n",
       "    </tr>\n",
       "  </tbody>\n",
       "</table>\n",
       "</div>"
      ],
      "text/plain": [
       "           owner           local_date          correlation\n",
       "0  0014509873541  2015-12-01 00:00:00                    0\n",
       "1  0016509873541  2015-12-01 00:00:00  -10.390537330480315\n",
       "2  0017409873541  2015-12-01 00:00:00  -15.746115002569816\n",
       "3  0019409873541  2015-12-01 00:00:00    13.49816494898464\n",
       "4  0019609873541  2015-12-01 00:00:00                   12"
      ]
     },
     "execution_count": 7,
     "metadata": {},
     "output_type": "execute_result"
    }
   ],
   "source": [
    "final_df.head(5)"
   ]
  },
  {
   "cell_type": "code",
   "execution_count": 8,
   "metadata": {
    "collapsed": false
   },
   "outputs": [
    {
     "data": {
      "image/png": "[encoded data removed]",
      "text/plain": [
       "<matplotlib.figure.Figure at 0x10ac49f90>"
      ]
     },
     "metadata": {},
     "output_type": "display_data"
    },
    {
     "name": "stdout",
     "output_type": "stream",
     "text": [
      "Notice here that the peak is shifted towards the positive and that there seems to be a much larger tail at the positive correlation side\n"
     ]
    }
   ],
   "source": [
    "test = plt.hist(np.double(final_df.correlation), bins = range(-20,20))\n",
    "plt.xlabel('Correlation between Bad Posture and Vibration Count')\n",
    "plt.ylabel('Count of times')\n",
    "plt.title('Histogram of correlation between Bad Posture and Vibration Count')\n",
    "plt.show()\n",
    "\n",
    "print('Notice here that the peak is shifted towards the positive and that there seems to be a much larger tail at the positive correlation side')"
   ]
  },
  {
   "cell_type": "markdown",
   "metadata": {},
   "source": [
    "# Below is python code for loading data and answer Problem 2 Addition - Looking at Good Posture Time"
   ]
  },
  {
   "cell_type": "code",
   "execution_count": 9,
   "metadata": {
    "collapsed": true
   },
   "outputs": [],
   "source": [
    "df = pd.read_json('Problem 2 GP.json', orient = 'records').reset_index()\n",
    "dct = {}\n",
    "for key, val in df[df.index == 0]['problem 2 gp'].iteritems():\n",
    "    dct[key] = val\n",
    "    \n",
    "final_df = pd.DataFrame.from_dict(dct, orient = 'index')\n",
    "for i in range(1, len(df)):\n",
    "    dct = {}\n",
    "    for key, val in df[df.index == i]['problem 2 gp'].iteritems():\n",
    "        dct[key] = val\n",
    "        \n",
    "    test_df = pd.DataFrame.from_dict(dct, orient = 'index')\n",
    "    final_df = final_df.append(test_df)\n",
    "    \n",
    "        \n",
    "    "
   ]
  },
  {
   "cell_type": "code",
   "execution_count": 10,
   "metadata": {
    "collapsed": false
   },
   "outputs": [
    {
     "data": {
      "text/html": [
       "<div>\n",
       "<table border=\"1\" class=\"dataframe\">\n",
       "  <thead>\n",
       "    <tr style=\"text-align: right;\">\n",
       "      <th></th>\n",
       "      <th>owner</th>\n",
       "      <th>local_date</th>\n",
       "      <th>correlation</th>\n",
       "    </tr>\n",
       "  </thead>\n",
       "  <tbody>\n",
       "    <tr>\n",
       "      <th>0</th>\n",
       "      <td>0014509873541</td>\n",
       "      <td>2015-12-01 00:00:00</td>\n",
       "      <td>12</td>\n",
       "    </tr>\n",
       "    <tr>\n",
       "      <th>1</th>\n",
       "      <td>0016509873541</td>\n",
       "      <td>2015-12-01 00:00:00</td>\n",
       "      <td>-7.810994854053699</td>\n",
       "    </tr>\n",
       "    <tr>\n",
       "      <th>2</th>\n",
       "      <td>0017409873541</td>\n",
       "      <td>2015-12-01 00:00:00</td>\n",
       "      <td>22.98029157184965</td>\n",
       "    </tr>\n",
       "    <tr>\n",
       "      <th>3</th>\n",
       "      <td>0019409873541</td>\n",
       "      <td>2015-12-01 00:00:00</td>\n",
       "      <td>-1.5401065050354756</td>\n",
       "    </tr>\n",
       "    <tr>\n",
       "      <th>4</th>\n",
       "      <td>0037609873541</td>\n",
       "      <td>2015-12-01 00:00:00</td>\n",
       "      <td>-0.953799638338355</td>\n",
       "    </tr>\n",
       "  </tbody>\n",
       "</table>\n",
       "</div>"
      ],
      "text/plain": [
       "           owner           local_date          correlation\n",
       "0  0014509873541  2015-12-01 00:00:00                   12\n",
       "1  0016509873541  2015-12-01 00:00:00   -7.810994854053699\n",
       "2  0017409873541  2015-12-01 00:00:00    22.98029157184965\n",
       "3  0019409873541  2015-12-01 00:00:00  -1.5401065050354756\n",
       "4  0037609873541  2015-12-01 00:00:00   -0.953799638338355"
      ]
     },
     "execution_count": 10,
     "metadata": {},
     "output_type": "execute_result"
    }
   ],
   "source": [
    "final_df.head(5)"
   ]
  },
  {
   "cell_type": "code",
   "execution_count": 11,
   "metadata": {
    "collapsed": false
   },
   "outputs": [
    {
     "data": {
      "image/png": "[encoded data removed]",
      "text/plain": [
       "<matplotlib.figure.Figure at 0x10c17bd10>"
      ]
     },
     "metadata": {},
     "output_type": "display_data"
    },
    {
     "name": "stdout",
     "output_type": "stream",
     "text": [
      "Notice here that the peak is shifted towards the negative and that there seems to be a much larger tail at the negative correlation side\n",
      "The reason that likely there is a gigantic peak close to zero is due to the treatment of Inactivity\n"
     ]
    }
   ],
   "source": [
    "test = plt.hist(np.double(final_df.correlation), bins = range(-20,20))\n",
    "plt.xlabel('Correlation between Good Posture and Vibration Count')\n",
    "plt.ylabel('Count of times')\n",
    "plt.title('Histogram of correlation between Good Posture and Vibration Count')\n",
    "plt.show()\n",
    "\n",
    "print('Notice here that the peak is shifted towards the negative and that there seems to be a much larger tail at the negative correlation side')\n",
    "print('The reason that likely there is a gigantic peak close to zero is due to the treatment of Inactivity')"
   ]
  },
  {
   "cell_type": "markdown",
   "metadata": {},
   "source": [
    "# Problem 3"
   ]
  },
  {
   "cell_type": "code",
   "execution_count": 12,
   "metadata": {
    "collapsed": true
   },
   "outputs": [],
   "source": [
    "df = pd.read_json('Problem 3.json', orient = 'records').reset_index()\n",
    "dct = {}\n",
    "for key, val in df[df.index == 0]['problem 3'].iteritems():\n",
    "    dct[key] = val\n",
    "    \n",
    "final_df = pd.DataFrame.from_dict(dct, orient = 'index')\n",
    "for i in range(1, len(df)):\n",
    "    dct = {}\n",
    "    for key, val in df[df.index == i]['problem 3'].iteritems():\n",
    "        dct[key] = val\n",
    "        \n",
    "    test_df = pd.DataFrame.from_dict(dct, orient = 'index')\n",
    "    final_df = final_df.append(test_df)\n",
    "    \n",
    "        \n",
    "    "
   ]
  },
  {
   "cell_type": "code",
   "execution_count": 13,
   "metadata": {
    "collapsed": false
   },
   "outputs": [
    {
     "data": {
      "text/html": [
       "<div>\n",
       "<table border=\"1\" class=\"dataframe\">\n",
       "  <thead>\n",
       "    <tr style=\"text-align: right;\">\n",
       "      <th></th>\n",
       "      <th>lower_posture_bound</th>\n",
       "      <th>gender</th>\n",
       "      <th>local_date</th>\n",
       "      <th>upper_posture_bound</th>\n",
       "      <th>avg_posture</th>\n",
       "    </tr>\n",
       "  </thead>\n",
       "  <tbody>\n",
       "    <tr>\n",
       "      <th>0</th>\n",
       "      <td>0.34312773856461887</td>\n",
       "      <td>f</td>\n",
       "      <td>2015-10-01 00:00:00</td>\n",
       "      <td>0.36556051122045585</td>\n",
       "      <td>0.35434412489253736</td>\n",
       "    </tr>\n",
       "    <tr>\n",
       "      <th>1</th>\n",
       "      <td>0.391301375432096</td>\n",
       "      <td>m</td>\n",
       "      <td>2015-10-01 00:00:00</td>\n",
       "      <td>0.4216843512849474</td>\n",
       "      <td>0.40649286335852171</td>\n",
       "    </tr>\n",
       "    <tr>\n",
       "      <th>2</th>\n",
       "      <td>0.3280867154977742</td>\n",
       "      <td>f</td>\n",
       "      <td>2015-10-02 00:00:00</td>\n",
       "      <td>0.3509031888971626</td>\n",
       "      <td>0.33949495219746841</td>\n",
       "    </tr>\n",
       "    <tr>\n",
       "      <th>3</th>\n",
       "      <td>0.3884986240739786</td>\n",
       "      <td>m</td>\n",
       "      <td>2015-10-02 00:00:00</td>\n",
       "      <td>0.4187534743360305</td>\n",
       "      <td>0.40362604920500457</td>\n",
       "    </tr>\n",
       "    <tr>\n",
       "      <th>4</th>\n",
       "      <td>0.27658158748939643</td>\n",
       "      <td>f</td>\n",
       "      <td>2015-10-03 00:00:00</td>\n",
       "      <td>0.30260413342981196</td>\n",
       "      <td>0.28959286045960420</td>\n",
       "    </tr>\n",
       "    <tr>\n",
       "      <th>5</th>\n",
       "      <td>0.295067396632898</td>\n",
       "      <td>m</td>\n",
       "      <td>2015-10-03 00:00:00</td>\n",
       "      <td>0.3316768674049699</td>\n",
       "      <td>0.31337213201893397</td>\n",
       "    </tr>\n",
       "    <tr>\n",
       "      <th>6</th>\n",
       "      <td>0.25756792936753486</td>\n",
       "      <td>f</td>\n",
       "      <td>2015-10-04 00:00:00</td>\n",
       "      <td>0.2836362431643314</td>\n",
       "      <td>0.27060208626593312</td>\n",
       "    </tr>\n",
       "    <tr>\n",
       "      <th>7</th>\n",
       "      <td>0.30642075227712673</td>\n",
       "      <td>m</td>\n",
       "      <td>2015-10-04 00:00:00</td>\n",
       "      <td>0.34471208121916175</td>\n",
       "      <td>0.32556641674814425</td>\n",
       "    </tr>\n",
       "    <tr>\n",
       "      <th>8</th>\n",
       "      <td>0.33945415569400533</td>\n",
       "      <td>f</td>\n",
       "      <td>2015-10-05 00:00:00</td>\n",
       "      <td>0.36190048094472654</td>\n",
       "      <td>0.35067731831936594</td>\n",
       "    </tr>\n",
       "    <tr>\n",
       "      <th>9</th>\n",
       "      <td>0.4069164114159798</td>\n",
       "      <td>m</td>\n",
       "      <td>2015-10-05 00:00:00</td>\n",
       "      <td>0.43670721976929616</td>\n",
       "      <td>0.42181181559263802</td>\n",
       "    </tr>\n",
       "  </tbody>\n",
       "</table>\n",
       "</div>"
      ],
      "text/plain": [
       "   lower_posture_bound gender           local_date  upper_posture_bound  \\\n",
       "0  0.34312773856461887      f  2015-10-01 00:00:00  0.36556051122045585   \n",
       "1    0.391301375432096      m  2015-10-01 00:00:00   0.4216843512849474   \n",
       "2   0.3280867154977742      f  2015-10-02 00:00:00   0.3509031888971626   \n",
       "3   0.3884986240739786      m  2015-10-02 00:00:00   0.4187534743360305   \n",
       "4  0.27658158748939643      f  2015-10-03 00:00:00  0.30260413342981196   \n",
       "5    0.295067396632898      m  2015-10-03 00:00:00   0.3316768674049699   \n",
       "6  0.25756792936753486      f  2015-10-04 00:00:00   0.2836362431643314   \n",
       "7  0.30642075227712673      m  2015-10-04 00:00:00  0.34471208121916175   \n",
       "8  0.33945415569400533      f  2015-10-05 00:00:00  0.36190048094472654   \n",
       "9   0.4069164114159798      m  2015-10-05 00:00:00  0.43670721976929616   \n",
       "\n",
       "           avg_posture  \n",
       "0  0.35434412489253736  \n",
       "1  0.40649286335852171  \n",
       "2  0.33949495219746841  \n",
       "3  0.40362604920500457  \n",
       "4  0.28959286045960420  \n",
       "5  0.31337213201893397  \n",
       "6  0.27060208626593312  \n",
       "7  0.32556641674814425  \n",
       "8  0.35067731831936594  \n",
       "9  0.42181181559263802  "
      ]
     },
     "execution_count": 13,
     "metadata": {},
     "output_type": "execute_result"
    }
   ],
   "source": [
    "final_df.head(10)"
   ]
  },
  {
   "cell_type": "code",
   "execution_count": 14,
   "metadata": {
    "collapsed": true
   },
   "outputs": [],
   "source": [
    "male_df = final_df[final_df.gender == 'm'].reset_index()\n",
    "female_df = final_df[final_df.gender == 'f'].reset_index()"
   ]
  },
  {
   "cell_type": "code",
   "execution_count": 15,
   "metadata": {
    "collapsed": false
   },
   "outputs": [
    {
     "data": {
      "image/png": "[encoded data removed]",
      "text/plain": [
       "<matplotlib.figure.Figure at 0x10ae3f590>"
      ]
     },
     "metadata": {},
     "output_type": "display_data"
    },
    {
     "name": "stdout",
     "output_type": "stream",
     "text": [
      "Note, the solid lines represent the average and the dashed lines represent the upper bound and lower bound\n",
      "Also note, green = female, blue = male\n",
      "Note that it looks like females have a calculated posture score that is lower than males\n",
      "This being said, it does not necessarily mean that females have worse posture, it could mean that they use the device to walk/run more so spend less time in good posture\n"
     ]
    }
   ],
   "source": [
    "plt.plot(male_df.avg_posture, 'b', alpha = 0.5)\n",
    "plt.hold('on')\n",
    "plt.plot(male_df.upper_posture_bound, 'b--')\n",
    "plt.plot(male_df.lower_posture_bound, 'b--')\n",
    "\n",
    "plt.plot(female_df.avg_posture, 'g', alpha = 0.5)\n",
    "plt.hold('on')\n",
    "plt.plot(female_df.upper_posture_bound, 'g--')\n",
    "plt.plot(female_df.lower_posture_bound, 'g--')\n",
    "plt.xlabel('Day in October')\n",
    "plt.ylabel('Average Good Posture')\n",
    "plt.title('Comparison of Posture between Male and Female')\n",
    "plt.show()\n",
    "\n",
    "print('Note, the solid lines represent the average and the dashed lines represent the upper bound and lower bound')\n",
    "print('Also note, green = female, blue = male')\n",
    "print('Note that it looks like females have a calculated posture score that is lower than males')\n",
    "print('This being said, it does not necessarily mean that females have worse posture, it could mean that they use the device to walk/run more so spend less time in good posture')"
   ]
  },
  {
   "cell_type": "markdown",
   "metadata": {},
   "source": [
    "# Problem 3 Addition"
   ]
  },
  {
   "cell_type": "code",
   "execution_count": 16,
   "metadata": {
    "collapsed": true
   },
   "outputs": [],
   "source": [
    "df = pd.read_json('Problem 3 Addition.json', orient = 'records').reset_index()\n",
    "dct = {}\n",
    "for key, val in df[df.index == 0]['problem 3 addition'].iteritems():\n",
    "    dct[key] = val\n",
    "    \n",
    "final_df = pd.DataFrame.from_dict(dct, orient = 'index')\n",
    "for i in range(1, len(df)):\n",
    "    dct = {}\n",
    "    for key, val in df[df.index == i]['problem 3 addition'].iteritems():\n",
    "        dct[key] = val\n",
    "        \n",
    "    test_df = pd.DataFrame.from_dict(dct, orient = 'index')\n",
    "    final_df = final_df.append(test_df)\n",
    "    \n",
    "        \n",
    "    "
   ]
  },
  {
   "cell_type": "code",
   "execution_count": 17,
   "metadata": {
    "collapsed": false
   },
   "outputs": [
    {
     "data": {
      "text/html": [
       "<div>\n",
       "<table border=\"1\" class=\"dataframe\">\n",
       "  <thead>\n",
       "    <tr style=\"text-align: right;\">\n",
       "      <th></th>\n",
       "      <th>first_quartile</th>\n",
       "      <th>gender</th>\n",
       "      <th>local_date</th>\n",
       "      <th>median_value</th>\n",
       "      <th>third_quartile</th>\n",
       "    </tr>\n",
       "  </thead>\n",
       "  <tbody>\n",
       "    <tr>\n",
       "      <th>0</th>\n",
       "      <td>0.17638065534857240</td>\n",
       "      <td>f</td>\n",
       "      <td>2015-10-01 00:00:00</td>\n",
       "      <td>0.38544382111370637</td>\n",
       "      <td>0.51796673610232374</td>\n",
       "    </tr>\n",
       "    <tr>\n",
       "      <th>1</th>\n",
       "      <td>0.22844977094979351</td>\n",
       "      <td>m</td>\n",
       "      <td>2015-10-01 00:00:00</td>\n",
       "      <td>0.45133592915441323</td>\n",
       "      <td>0.57928817235015323</td>\n",
       "    </tr>\n",
       "    <tr>\n",
       "      <th>2</th>\n",
       "      <td>0.16387971113217852</td>\n",
       "      <td>f</td>\n",
       "      <td>2015-10-02 00:00:00</td>\n",
       "      <td>0.36199512660210432</td>\n",
       "      <td>0.50279846584311222</td>\n",
       "    </tr>\n",
       "    <tr>\n",
       "      <th>3</th>\n",
       "      <td>0.23581023371379765</td>\n",
       "      <td>m</td>\n",
       "      <td>2015-10-02 00:00:00</td>\n",
       "      <td>0.44367489986648865</td>\n",
       "      <td>0.57603396760496933</td>\n",
       "    </tr>\n",
       "    <tr>\n",
       "      <th>4</th>\n",
       "      <td>0.06598984771573604</td>\n",
       "      <td>f</td>\n",
       "      <td>2015-10-03 00:00:00</td>\n",
       "      <td>0.28989782702547129</td>\n",
       "      <td>0.45852635259155668</td>\n",
       "    </tr>\n",
       "    <tr>\n",
       "      <th>5</th>\n",
       "      <td>0.04230401529636711</td>\n",
       "      <td>m</td>\n",
       "      <td>2015-10-03 00:00:00</td>\n",
       "      <td>0.32559264634736332</td>\n",
       "      <td>0.50500517777010700</td>\n",
       "    </tr>\n",
       "    <tr>\n",
       "      <th>6</th>\n",
       "      <td>0.03650820750991077</td>\n",
       "      <td>f</td>\n",
       "      <td>2015-10-04 00:00:00</td>\n",
       "      <td>0.27340201617370111</td>\n",
       "      <td>0.43311290449046390</td>\n",
       "    </tr>\n",
       "    <tr>\n",
       "      <th>7</th>\n",
       "      <td>0.04549380113703804</td>\n",
       "      <td>m</td>\n",
       "      <td>2015-10-04 00:00:00</td>\n",
       "      <td>0.34643450580109485</td>\n",
       "      <td>0.50826485885033432</td>\n",
       "    </tr>\n",
       "    <tr>\n",
       "      <th>8</th>\n",
       "      <td>0.18808084181753965</td>\n",
       "      <td>f</td>\n",
       "      <td>2015-10-05 00:00:00</td>\n",
       "      <td>0.37195365484281271</td>\n",
       "      <td>0.51605917742673187</td>\n",
       "    </tr>\n",
       "    <tr>\n",
       "      <th>9</th>\n",
       "      <td>0.27972417907752747</td>\n",
       "      <td>m</td>\n",
       "      <td>2015-10-05 00:00:00</td>\n",
       "      <td>0.47020844744534141</td>\n",
       "      <td>0.59024550251505945</td>\n",
       "    </tr>\n",
       "  </tbody>\n",
       "</table>\n",
       "</div>"
      ],
      "text/plain": [
       "        first_quartile gender           local_date         median_value  \\\n",
       "0  0.17638065534857240      f  2015-10-01 00:00:00  0.38544382111370637   \n",
       "1  0.22844977094979351      m  2015-10-01 00:00:00  0.45133592915441323   \n",
       "2  0.16387971113217852      f  2015-10-02 00:00:00  0.36199512660210432   \n",
       "3  0.23581023371379765      m  2015-10-02 00:00:00  0.44367489986648865   \n",
       "4  0.06598984771573604      f  2015-10-03 00:00:00  0.28989782702547129   \n",
       "5  0.04230401529636711      m  2015-10-03 00:00:00  0.32559264634736332   \n",
       "6  0.03650820750991077      f  2015-10-04 00:00:00  0.27340201617370111   \n",
       "7  0.04549380113703804      m  2015-10-04 00:00:00  0.34643450580109485   \n",
       "8  0.18808084181753965      f  2015-10-05 00:00:00  0.37195365484281271   \n",
       "9  0.27972417907752747      m  2015-10-05 00:00:00  0.47020844744534141   \n",
       "\n",
       "        third_quartile  \n",
       "0  0.51796673610232374  \n",
       "1  0.57928817235015323  \n",
       "2  0.50279846584311222  \n",
       "3  0.57603396760496933  \n",
       "4  0.45852635259155668  \n",
       "5  0.50500517777010700  \n",
       "6  0.43311290449046390  \n",
       "7  0.50826485885033432  \n",
       "8  0.51605917742673187  \n",
       "9  0.59024550251505945  "
      ]
     },
     "execution_count": 17,
     "metadata": {},
     "output_type": "execute_result"
    }
   ],
   "source": [
    "final_df.head(10)"
   ]
  },
  {
   "cell_type": "code",
   "execution_count": 18,
   "metadata": {
    "collapsed": true
   },
   "outputs": [],
   "source": [
    "male_df = final_df[final_df.gender == 'm'].reset_index()\n",
    "female_df = final_df[final_df.gender == 'f'].reset_index()"
   ]
  },
  {
   "cell_type": "code",
   "execution_count": 19,
   "metadata": {
    "collapsed": false
   },
   "outputs": [
    {
     "data": {
      "image/png": "[encoded data removed]",
      "text/plain": [
       "<matplotlib.figure.Figure at 0x10b26bbd0>"
      ]
     },
     "metadata": {},
     "output_type": "display_data"
    },
    {
     "name": "stdout",
     "output_type": "stream",
     "text": [
      "Note, the solid lines represent the average and the dashed lines represent the upper bound and lower bound\n",
      "Also note, green = female, blue = male\n"
     ]
    }
   ],
   "source": [
    "plt.plot(male_df.median_value, 'b', alpha = 0.5)\n",
    "plt.hold('on')\n",
    "plt.plot(male_df.first_quartile, 'b--')\n",
    "plt.plot(male_df.third_quartile, 'b--')\n",
    "\n",
    "plt.plot(female_df.median_value, 'g', alpha = 0.5)\n",
    "plt.hold('on')\n",
    "plt.plot(female_df.first_quartile, 'g--')\n",
    "plt.plot(female_df.third_quartile, 'g--')\n",
    "plt.xlabel('Day in October')\n",
    "plt.ylabel('Average Good Posture')\n",
    "plt.title('Comparison of Posture between Male and Female')\n",
    "plt.show()\n",
    "\n",
    "print('Note, the solid lines represent the average and the dashed lines represent the upper bound and lower bound')\n",
    "print('Also note, green = female, blue = male')"
   ]
  },
  {
   "cell_type": "markdown",
   "metadata": {},
   "source": [
    "# Problem 4"
   ]
  },
  {
   "cell_type": "code",
   "execution_count": 20,
   "metadata": {
    "collapsed": true
   },
   "outputs": [],
   "source": [
    "df = pd.read_json('Problem 4.json', orient = 'records').reset_index()\n",
    "dct = {}\n",
    "for key, val in df[df.index == 0]['problem 4'].iteritems():\n",
    "    dct[key] = val\n",
    "    \n",
    "final_df = pd.DataFrame.from_dict(dct, orient = 'index')\n",
    "for i in range(1, len(df)):\n",
    "    dct = {}\n",
    "    for key, val in df[df.index == i]['problem 4'].iteritems():\n",
    "        dct[key] = val\n",
    "        \n",
    "    test_df = pd.DataFrame.from_dict(dct, orient = 'index')\n",
    "    final_df = final_df.append(test_df)\n",
    "    \n",
    "        \n",
    "    "
   ]
  },
  {
   "cell_type": "code",
   "execution_count": 21,
   "metadata": {
    "collapsed": false
   },
   "outputs": [
    {
     "data": {
      "image/png": "[encoded data removed]",
      "text/plain": [
       "<matplotlib.figure.Figure at 0x10afa2bd0>"
      ]
     },
     "metadata": {},
     "output_type": "display_data"
    },
    {
     "name": "stdout",
     "output_type": "stream",
     "text": [
      "Notice, there seems to be a large population of users who seem to use it within 5 or so days (my guess is weekday wearers)\n",
      "Also there is a group of super users who wear it almost every single day\n"
     ]
    }
   ],
   "source": [
    "test = plt.hist(np.double(final_df.longest_streak), bins = range(0,31))\n",
    "plt.xlabel('Length of longest Streak')\n",
    "plt.ylabel('Number of users')\n",
    "plt.title('Histogram of longest streak')\n",
    "plt.show()\n",
    "print('Notice, there seems to be a large population of users who seem to use it within 5 or so days (my guess is weekday wearers)')\n",
    "print('Also there is a group of super users who wear it almost every single day')"
   ]
  },
  {
   "cell_type": "code",
   "execution_count": 22,
   "metadata": {
    "collapsed": false
   },
   "outputs": [
    {
     "data": {
      "image/png": "[encoded data removed]",
      "text/plain": [
       "<matplotlib.figure.Figure at 0x10b24e890>"
      ]
     },
     "metadata": {},
     "output_type": "display_data"
    }
   ],
   "source": [
    "test = plt.hist(np.double(final_df.n_streaks), bins = range(0,10))\n",
    "plt.xlabel('Number of streaks')\n",
    "plt.ylabel('Number of users')\n",
    "plt.title('Histogram of number of strekas')\n",
    "plt.show()"
   ]
  },
  {
   "cell_type": "markdown",
   "metadata": {},
   "source": [
    "# Problem 4 Addition"
   ]
  },
  {
   "cell_type": "code",
   "execution_count": 23,
   "metadata": {
    "collapsed": true
   },
   "outputs": [],
   "source": [
    "df = pd.read_json('Problem 4 Addition.json', orient = 'records').reset_index()\n",
    "dct = {}\n",
    "for key, val in df[df.index == 0]['problem 4 addition'].iteritems():\n",
    "    dct[key] = val\n",
    "    \n",
    "final_df = pd.DataFrame.from_dict(dct, orient = 'index')\n",
    "for i in range(1, len(df)):\n",
    "    dct = {}\n",
    "    for key, val in df[df.index == i]['problem 4 addition'].iteritems():\n",
    "        dct[key] = val\n",
    "        \n",
    "    test_df = pd.DataFrame.from_dict(dct, orient = 'index')\n",
    "    final_df = final_df.append(test_df)\n",
    "    \n",
    "        \n",
    "    "
   ]
  },
  {
   "cell_type": "code",
   "execution_count": 24,
   "metadata": {
    "collapsed": false
   },
   "outputs": [
    {
     "data": {
      "image/png": "[encoded data removed]",
      "text/plain": [
       "<matplotlib.figure.Figure at 0x10b25f390>"
      ]
     },
     "metadata": {},
     "output_type": "display_data"
    },
    {
     "name": "stdout",
     "output_type": "stream",
     "text": [
      "Notice, there seems to be a large population of users who seem to use it within 5 or so days (my guess is weekday wearers)\n",
      "Also there is a group of super users who wear it almost every single day\n",
      "Note how the 30 day peak is gone replaced by a group of > 30 days, my inferrence here is that these users were continuing to wear it from before\n"
     ]
    }
   ],
   "source": [
    "test = plt.hist(np.double(final_df.longest_streak), bins = range(0,60))\n",
    "plt.xlabel('Length of longest Streak')\n",
    "plt.ylabel('Number of users')\n",
    "plt.title('Histogram of longest streak')\n",
    "plt.show()\n",
    "print('Notice, there seems to be a large population of users who seem to use it within 5 or so days (my guess is weekday wearers)')\n",
    "print('Also there is a group of super users who wear it almost every single day')\n",
    "print('Note how the 30 day peak is gone replaced by a group of > 30 days, my inferrence here is that these users were continuing to wear it from before')"
   ]
  },
  {
   "cell_type": "code",
   "execution_count": null,
   "metadata": {
    "collapsed": true
   },
   "outputs": [],
   "source": []
  }
 ],
 "metadata": {
  "kernelspec": {
   "display_name": "Python 2",
   "language": "python",
   "name": "python2"
  },
  "language_info": {
   "codemirror_mode": {
    "name": "ipython",
    "version": 2
   },
   "file_extension": ".py",
   "mimetype": "text/x-python",
   "name": "python",
   "nbconvert_exporter": "python",
   "pygments_lexer": "ipython2",
   "version": "2.7.10"
  }
 },
 "nbformat": 4,
 "nbformat_minor": 0
}
